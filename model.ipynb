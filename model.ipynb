{
 "cells": [
  {
   "cell_type": "code",
   "execution_count": 2,
   "metadata": {},
   "outputs": [
    {
     "data": {
      "text/html": [
       "<div>\n",
       "<style scoped>\n",
       "    .dataframe tbody tr th:only-of-type {\n",
       "        vertical-align: middle;\n",
       "    }\n",
       "\n",
       "    .dataframe tbody tr th {\n",
       "        vertical-align: top;\n",
       "    }\n",
       "\n",
       "    .dataframe thead th {\n",
       "        text-align: right;\n",
       "    }\n",
       "</style>\n",
       "<table border=\"1\" class=\"dataframe\">\n",
       "  <thead>\n",
       "    <tr style=\"text-align: right;\">\n",
       "      <th></th>\n",
       "      <th>respondent_id</th>\n",
       "      <th>h1n1_concern</th>\n",
       "      <th>h1n1_knowledge</th>\n",
       "      <th>behavioral_antiviral_meds</th>\n",
       "      <th>behavioral_avoidance</th>\n",
       "      <th>behavioral_face_mask</th>\n",
       "      <th>behavioral_wash_hands</th>\n",
       "      <th>behavioral_large_gatherings</th>\n",
       "      <th>behavioral_outside_home</th>\n",
       "      <th>behavioral_touch_face</th>\n",
       "      <th>...</th>\n",
       "      <th>sex</th>\n",
       "      <th>income_poverty</th>\n",
       "      <th>marital_status</th>\n",
       "      <th>rent_or_own</th>\n",
       "      <th>employment_status</th>\n",
       "      <th>hhs_geo_region</th>\n",
       "      <th>census_msa</th>\n",
       "      <th>household_adults</th>\n",
       "      <th>household_children</th>\n",
       "      <th>h1n1_vaccine</th>\n",
       "    </tr>\n",
       "  </thead>\n",
       "  <tbody>\n",
       "    <tr>\n",
       "      <th>0</th>\n",
       "      <td>0</td>\n",
       "      <td>1.0</td>\n",
       "      <td>0.0</td>\n",
       "      <td>0.0</td>\n",
       "      <td>0.0</td>\n",
       "      <td>0.0</td>\n",
       "      <td>0.0</td>\n",
       "      <td>0.0</td>\n",
       "      <td>1.0</td>\n",
       "      <td>1.0</td>\n",
       "      <td>...</td>\n",
       "      <td>Female</td>\n",
       "      <td>Below Poverty</td>\n",
       "      <td>Not Married</td>\n",
       "      <td>Own</td>\n",
       "      <td>Not in Labor Force</td>\n",
       "      <td>oxchjgsf</td>\n",
       "      <td>Non-MSA</td>\n",
       "      <td>0.0</td>\n",
       "      <td>0.0</td>\n",
       "      <td>0</td>\n",
       "    </tr>\n",
       "    <tr>\n",
       "      <th>1</th>\n",
       "      <td>1</td>\n",
       "      <td>3.0</td>\n",
       "      <td>2.0</td>\n",
       "      <td>0.0</td>\n",
       "      <td>1.0</td>\n",
       "      <td>0.0</td>\n",
       "      <td>1.0</td>\n",
       "      <td>0.0</td>\n",
       "      <td>1.0</td>\n",
       "      <td>1.0</td>\n",
       "      <td>...</td>\n",
       "      <td>Male</td>\n",
       "      <td>Below Poverty</td>\n",
       "      <td>Not Married</td>\n",
       "      <td>Rent</td>\n",
       "      <td>Employed</td>\n",
       "      <td>bhuqouqj</td>\n",
       "      <td>MSA, Not Principle  City</td>\n",
       "      <td>0.0</td>\n",
       "      <td>0.0</td>\n",
       "      <td>0</td>\n",
       "    </tr>\n",
       "    <tr>\n",
       "      <th>2</th>\n",
       "      <td>2</td>\n",
       "      <td>1.0</td>\n",
       "      <td>1.0</td>\n",
       "      <td>0.0</td>\n",
       "      <td>1.0</td>\n",
       "      <td>0.0</td>\n",
       "      <td>0.0</td>\n",
       "      <td>0.0</td>\n",
       "      <td>0.0</td>\n",
       "      <td>0.0</td>\n",
       "      <td>...</td>\n",
       "      <td>Male</td>\n",
       "      <td>&lt;= $75,000, Above Poverty</td>\n",
       "      <td>Not Married</td>\n",
       "      <td>Own</td>\n",
       "      <td>Employed</td>\n",
       "      <td>qufhixun</td>\n",
       "      <td>MSA, Not Principle  City</td>\n",
       "      <td>2.0</td>\n",
       "      <td>0.0</td>\n",
       "      <td>0</td>\n",
       "    </tr>\n",
       "    <tr>\n",
       "      <th>3</th>\n",
       "      <td>3</td>\n",
       "      <td>1.0</td>\n",
       "      <td>1.0</td>\n",
       "      <td>0.0</td>\n",
       "      <td>1.0</td>\n",
       "      <td>0.0</td>\n",
       "      <td>1.0</td>\n",
       "      <td>1.0</td>\n",
       "      <td>0.0</td>\n",
       "      <td>0.0</td>\n",
       "      <td>...</td>\n",
       "      <td>Female</td>\n",
       "      <td>Below Poverty</td>\n",
       "      <td>Not Married</td>\n",
       "      <td>Rent</td>\n",
       "      <td>Not in Labor Force</td>\n",
       "      <td>lrircsnp</td>\n",
       "      <td>MSA, Principle City</td>\n",
       "      <td>0.0</td>\n",
       "      <td>0.0</td>\n",
       "      <td>0</td>\n",
       "    </tr>\n",
       "    <tr>\n",
       "      <th>4</th>\n",
       "      <td>4</td>\n",
       "      <td>2.0</td>\n",
       "      <td>1.0</td>\n",
       "      <td>0.0</td>\n",
       "      <td>1.0</td>\n",
       "      <td>0.0</td>\n",
       "      <td>1.0</td>\n",
       "      <td>1.0</td>\n",
       "      <td>0.0</td>\n",
       "      <td>1.0</td>\n",
       "      <td>...</td>\n",
       "      <td>Female</td>\n",
       "      <td>&lt;= $75,000, Above Poverty</td>\n",
       "      <td>Married</td>\n",
       "      <td>Own</td>\n",
       "      <td>Employed</td>\n",
       "      <td>qufhixun</td>\n",
       "      <td>MSA, Not Principle  City</td>\n",
       "      <td>1.0</td>\n",
       "      <td>0.0</td>\n",
       "      <td>0</td>\n",
       "    </tr>\n",
       "  </tbody>\n",
       "</table>\n",
       "<p>5 rows × 30 columns</p>\n",
       "</div>"
      ],
      "text/plain": [
       "   respondent_id  h1n1_concern  h1n1_knowledge  behavioral_antiviral_meds  \\\n",
       "0              0           1.0             0.0                        0.0   \n",
       "1              1           3.0             2.0                        0.0   \n",
       "2              2           1.0             1.0                        0.0   \n",
       "3              3           1.0             1.0                        0.0   \n",
       "4              4           2.0             1.0                        0.0   \n",
       "\n",
       "   behavioral_avoidance  behavioral_face_mask  behavioral_wash_hands  \\\n",
       "0                   0.0                   0.0                    0.0   \n",
       "1                   1.0                   0.0                    1.0   \n",
       "2                   1.0                   0.0                    0.0   \n",
       "3                   1.0                   0.0                    1.0   \n",
       "4                   1.0                   0.0                    1.0   \n",
       "\n",
       "   behavioral_large_gatherings  behavioral_outside_home  \\\n",
       "0                          0.0                      1.0   \n",
       "1                          0.0                      1.0   \n",
       "2                          0.0                      0.0   \n",
       "3                          1.0                      0.0   \n",
       "4                          1.0                      0.0   \n",
       "\n",
       "   behavioral_touch_face  ...     sex             income_poverty  \\\n",
       "0                    1.0  ...  Female              Below Poverty   \n",
       "1                    1.0  ...    Male              Below Poverty   \n",
       "2                    0.0  ...    Male  <= $75,000, Above Poverty   \n",
       "3                    0.0  ...  Female              Below Poverty   \n",
       "4                    1.0  ...  Female  <= $75,000, Above Poverty   \n",
       "\n",
       "   marital_status  rent_or_own   employment_status  hhs_geo_region  \\\n",
       "0     Not Married          Own  Not in Labor Force        oxchjgsf   \n",
       "1     Not Married         Rent            Employed        bhuqouqj   \n",
       "2     Not Married          Own            Employed        qufhixun   \n",
       "3     Not Married         Rent  Not in Labor Force        lrircsnp   \n",
       "4         Married          Own            Employed        qufhixun   \n",
       "\n",
       "                 census_msa household_adults household_children h1n1_vaccine  \n",
       "0                   Non-MSA              0.0                0.0            0  \n",
       "1  MSA, Not Principle  City              0.0                0.0            0  \n",
       "2  MSA, Not Principle  City              2.0                0.0            0  \n",
       "3       MSA, Principle City              0.0                0.0            0  \n",
       "4  MSA, Not Principle  City              1.0                0.0            0  \n",
       "\n",
       "[5 rows x 30 columns]"
      ]
     },
     "execution_count": 2,
     "metadata": {},
     "output_type": "execute_result"
    }
   ],
   "source": [
    "import pandas as pd\n",
    "import numpy as np\n",
    "import matplotlib.pyplot as plt\n",
    "\n",
    "df = pd.read_csv(\"clean_dataset.csv\")\n",
    "df.head()"
   ]
  },
  {
   "cell_type": "code",
   "execution_count": 3,
   "metadata": {},
   "outputs": [],
   "source": [
    "dum_var = [\"age_group\",\"education\",\"race\",\"sex\",\"income_poverty\",\"marital_status\",\"rent_or_own\",\"employment_status\",\"hhs_geo_region\",\"census_msa\"]\n",
    "dummies =  pd.get_dummies(df, columns= dum_var)\n",
    "\n",
    "features= dummies.drop(['h1n1_vaccine', 'respondent_id'], axis = 1)\n",
    "labels = dummies['h1n1_vaccine']\n"
   ]
  },
  {
   "cell_type": "markdown",
   "metadata": {},
   "source": [
    "Baseline Models using all attributes"
   ]
  },
  {
   "cell_type": "code",
   "execution_count": 4,
   "metadata": {},
   "outputs": [
    {
     "name": "stdout",
     "output_type": "stream",
     "text": [
      "  Name     Score\n",
      "0   LR  0.834912\n",
      "1   DT  0.748418\n",
      "2  GNB  0.767327\n",
      "3   RF  0.832815\n",
      "4   GB  0.836747\n"
     ]
    },
    {
     "data": {
      "image/png": "[encoded data removed]",
      "text/plain": [
       "<Figure size 432x288 with 1 Axes>"
      ]
     },
     "metadata": {
      "needs_background": "light"
     },
     "output_type": "display_data"
    }
   ],
   "source": [
    "from sklearn.neighbors import KNeighborsClassifier\n",
    "from sklearn.linear_model import LogisticRegression\n",
    "from sklearn.tree import DecisionTreeClassifier\n",
    "from sklearn.naive_bayes import GaussianNB\n",
    "from sklearn.ensemble import RandomForestClassifier\n",
    "from sklearn.ensemble import GradientBoostingClassifier\n",
    "from sklearn.model_selection import train_test_split\n",
    "from sklearn.metrics import accuracy_score\n",
    "from sklearn.model_selection import cross_val_score\n",
    "from sklearn.model_selection import KFold\n",
    "import seaborn as sns\n",
    "import warnings\n",
    "warnings.filterwarnings('ignore')\n",
    "\n",
    "models = []\n",
    "models.append(('LR', LogisticRegression()))\n",
    "models.append(('DT', DecisionTreeClassifier()))\n",
    "models.append(('GNB', GaussianNB()))\n",
    "models.append(('RF', RandomForestClassifier()))\n",
    "models.append(('GB', GradientBoostingClassifier()))\n",
    "\n",
    "names = []\n",
    "scores = []\n",
    "for name, model in models:\n",
    "    kfold = KFold(n_splits=10) \n",
    "    score = cross_val_score(model, features, labels, cv=kfold, scoring='accuracy').mean()\n",
    "    names.append(name)\n",
    "    scores.append(score)\n",
    "kf_cross_val = pd.DataFrame({'Name': names, 'Score': scores})\n",
    "print(kf_cross_val)\n",
    "\n",
    "axis = sns.barplot(x = 'Name', y = 'Score', data = kf_cross_val)\n",
    "axis.set(xlabel='Classifier', ylabel='Accuracy')\n",
    "for p in axis.patches:\n",
    "    height = p.get_height()\n",
    "    axis.text(p.get_x() + p.get_width()/2, height + 0.005, '{:1.4f}'.format(height), ha=\"center\") \n",
    "    \n",
    "plt.show()\n"
   ]
  },
  {
   "cell_type": "code",
   "execution_count": 58,
   "metadata": {},
   "outputs": [
    {
     "data": {
      "text/plain": [
       "respondent_id                              -0.003280\n",
       "h1n1_concern                                0.121574\n",
       "h1n1_knowledge                              0.117771\n",
       "behavioral_antiviral_meds                   0.040226\n",
       "behavioral_avoidance                        0.046837\n",
       "behavioral_face_mask                        0.070413\n",
       "behavioral_wash_hands                       0.074570\n",
       "behavioral_large_gatherings                 0.018089\n",
       "behavioral_outside_home                     0.022080\n",
       "behavioral_touch_face                       0.070855\n",
       "doctor_recc_h1n1                            0.394086\n",
       "chronic_med_condition                       0.094360\n",
       "child_under_6_months                        0.066712\n",
       "health_worker                               0.168056\n",
       "opinion_h1n1_vacc_effective                 0.267352\n",
       "opinion_h1n1_risk                           0.320580\n",
       "opinion_h1n1_sick_from_vacc                 0.074580\n",
       "household_adults                            0.007323\n",
       "household_children                         -0.002567\n",
       "h1n1_vaccine                                1.000000\n",
       "age_group_18 - 34 Years                    -0.027005\n",
       "age_group_35 - 44 Years                    -0.014733\n",
       "age_group_45 - 54 Years                    -0.021401\n",
       "age_group_55 - 64 Years                     0.038122\n",
       "age_group_65+ Years                         0.020377\n",
       "education_12 Years                         -0.035660\n",
       "education_< 12 Years                       -0.034498\n",
       "education_College Graduate                  0.055445\n",
       "education_Some College                     -0.006712\n",
       "race_Black                                 -0.045725\n",
       "race_Hispanic                              -0.002902\n",
       "race_Other or Multiple                      0.002508\n",
       "race_White                                  0.030887\n",
       "sex_Female                                  0.020672\n",
       "sex_Male                                   -0.020672\n",
       "income_poverty_<= $75,000, Above Poverty   -0.041907\n",
       "income_poverty_> $75,000                    0.058006\n",
       "income_poverty_Below Poverty               -0.017313\n",
       "marital_status_Married                      0.045194\n",
       "marital_status_Not Married                 -0.045194\n",
       "rent_or_own_Own                             0.030977\n",
       "rent_or_own_Rent                           -0.030977\n",
       "employment_status_Employed                  0.000426\n",
       "employment_status_Not in Labor Force        0.013065\n",
       "employment_status_Unemployed               -0.028935\n",
       "hhs_geo_region_atmpeygn                     0.003480\n",
       "hhs_geo_region_bhuqouqj                     0.038969\n",
       "hhs_geo_region_dqpwygqj                    -0.021055\n",
       "hhs_geo_region_fpwskwrf                    -0.009965\n",
       "hhs_geo_region_kbazzjca                    -0.011902\n",
       "hhs_geo_region_lrircsnp                    -0.001531\n",
       "hhs_geo_region_lzgpxyit                    -0.034608\n",
       "hhs_geo_region_mlyzmhmf                     0.013355\n",
       "hhs_geo_region_oxchjgsf                     0.015572\n",
       "hhs_geo_region_qufhixun                     0.008848\n",
       "census_msa_MSA, Not Principle  City        -0.001296\n",
       "census_msa_MSA, Principle City              0.002061\n",
       "census_msa_Non-MSA                         -0.000669\n",
       "dtype: float64"
      ]
     },
     "execution_count": 58,
     "metadata": {},
     "output_type": "execute_result"
    }
   ],
   "source": [
    "dummies.corrwith(df[\"h1n1_vaccine\"])"
   ]
  },
  {
   "cell_type": "markdown",
   "metadata": {},
   "source": [
    "Models using only features that show strong correlation to target"
   ]
  },
  {
   "cell_type": "code",
   "execution_count": 71,
   "metadata": {},
   "outputs": [],
   "source": [
    "#Choosing features that show strong correlation with the target variable\n",
    "\n",
    "features_2 = dummies[[\"doctor_recc_h1n1\",\"h1n1_concern\", \"h1n1_knowledge\", \"health_worker\", \"opinion_h1n1_vacc_effective\", \"opinion_h1n1_risk\"]]\n",
    "labels_2 = dummies[\"h1n1_vaccine\"]\n"
   ]
  },
  {
   "cell_type": "code",
   "execution_count": 75,
   "metadata": {},
   "outputs": [
    {
     "name": "stdout",
     "output_type": "stream",
     "text": [
      "  Name     Score\n",
      "0   LR  0.831168\n",
      "1   DT  0.828959\n",
      "2  GNB  0.796346\n",
      "3   RF  0.828023\n",
      "4   GB  0.833677\n"
     ]
    },
    {
     "data": {
      "image/png": "[encoded data removed]",
      "text/plain": [
       "<Figure size 432x288 with 1 Axes>"
      ]
     },
     "metadata": {
      "needs_background": "light"
     },
     "output_type": "display_data"
    }
   ],
   "source": [
    "models = []\n",
    "models.append(('LR', LogisticRegression()))\n",
    "models.append(('DT', DecisionTreeClassifier()))\n",
    "models.append(('GNB', GaussianNB()))\n",
    "models.append(('RF', RandomForestClassifier()))\n",
    "models.append(('GB', GradientBoostingClassifier()))\n",
    "\n",
    "names = []\n",
    "scores = []\n",
    "for name, model in models:\n",
    "    kfold = KFold(n_splits= 5) \n",
    "    score = cross_val_score(model, features_2, labels_2, cv=kfold, scoring='accuracy').mean()\n",
    "    names.append(name)\n",
    "    scores.append(score)\n",
    "kf_cross_val_2 = pd.DataFrame({'Name': names, 'Score': scores})\n",
    "print(kf_cross_val_2)\n",
    "\n",
    "axis = sns.barplot(x = 'Name', y = 'Score', data = kf_cross_val_2)\n",
    "axis.set(xlabel='Classifier', ylabel='Accuracy')\n",
    "for p in axis.patches:\n",
    "    height = p.get_height()\n",
    "    axis.text(p.get_x() + p.get_width()/2, height + 0.005, '{:1.4f}'.format(height), ha=\"center\") \n",
    "    \n",
    "plt.show()"
   ]
  },
  {
   "cell_type": "markdown",
   "metadata": {},
   "source": [
    "The best two models are Logistic Regression followed by Gradient Boosting."
   ]
  },
  {
   "cell_type": "code",
   "execution_count": 61,
   "metadata": {},
   "outputs": [
    {
     "data": {
      "image/png": "[encoded data removed]",
      "text/plain": [
       "<Figure size 432x288 with 1 Axes>"
      ]
     },
     "metadata": {
      "needs_background": "light"
     },
     "output_type": "display_data"
    }
   ],
   "source": [
    "from sklearn.feature_selection import RFECV\n",
    "import warnings\n",
    "warnings.filterwarnings('ignore')\n",
    "\n",
    "logreg_model = LogisticRegression()\n",
    "rfecv = RFECV(estimator=logreg_model, step=1, cv= 5, scoring='accuracy')\n",
    "rfecv.fit(features, labels)\n",
    "\n",
    "plt.figure()\n",
    "plt.title('Logistic Regression CV score vs No of Features')\n",
    "plt.xlabel(\"Number of features selected\")\n",
    "plt.ylabel(\"Cross validation score (nb of correct classifications)\")\n",
    "plt.plot(range(1, len(rfecv.grid_scores_) + 1), rfecv.grid_scores_)\n",
    "plt.show()"
   ]
  },
  {
   "cell_type": "code",
   "execution_count": 62,
   "metadata": {},
   "outputs": [
    {
     "name": "stdout",
     "output_type": "stream",
     "text": [
      "['h1n1_concern', 'h1n1_knowledge', 'behavioral_antiviral_meds', 'behavioral_face_mask', 'behavioral_large_gatherings', 'doctor_recc_h1n1', 'chronic_med_condition', 'child_under_6_months', 'health_worker', 'opinion_h1n1_vacc_effective', 'opinion_h1n1_risk', 'age_group_18 - 34 Years', 'age_group_35 - 44 Years', 'age_group_45 - 54 Years', 'age_group_55 - 64 Years', 'education_< 12 Years', 'education_College Graduate', 'race_Black', 'race_Other or Multiple', 'sex_Female', 'marital_status_Not Married', 'rent_or_own_Rent', 'hhs_geo_region_atmpeygn', 'hhs_geo_region_bhuqouqj', 'hhs_geo_region_dqpwygqj', 'hhs_geo_region_fpwskwrf', 'hhs_geo_region_kbazzjca', 'hhs_geo_region_lzgpxyit']\n",
      "Initial accuracy : 0.8349871942085871 \n",
      "Accuracy after Feature Selection : 0.8350995257122079 \n"
     ]
    }
   ],
   "source": [
    "from sklearn.model_selection import cross_val_score\n",
    "\n",
    "feature_importance = list(zip(features, rfecv.support_))\n",
    "new_features = []\n",
    "for key,value in enumerate(feature_importance):\n",
    "    if(value[1]) == True:\n",
    "        new_features.append(value[0])\n",
    "        \n",
    "print(new_features)\n",
    "\n",
    "X_new = dummies[new_features]\n",
    "initial_score = cross_val_score(logreg_model, features, labels, cv= 5, scoring='accuracy').mean()\n",
    "print(\"Initial accuracy : {} \".format(initial_score))\n",
    "fe_score = cross_val_score(logreg_model, X_new, labels, cv= 5, scoring='accuracy').mean()\n",
    "print(\"Accuracy after Feature Selection : {} \".format(fe_score))"
   ]
  },
  {
   "cell_type": "code",
   "execution_count": 63,
   "metadata": {},
   "outputs": [
    {
     "data": {
      "image/png": "[encoded data removed]",
      "text/plain": [
       "<Figure size 432x288 with 1 Axes>"
      ]
     },
     "metadata": {
      "needs_background": "light"
     },
     "output_type": "display_data"
    }
   ],
   "source": [
    "gb_model = GradientBoostingClassifier()\n",
    "gb_rfecv = RFECV(estimator=gb_model, step=1, cv= 5, scoring='accuracy')\n",
    "gb_rfecv.fit(features, labels)\n",
    "plt.figure()\n",
    "plt.title('Gradient Boost CV score vs No of Features')\n",
    "plt.xlabel(\"Number of features selected\")\n",
    "plt.ylabel(\"Cross validation score (nb of correct classifications)\")\n",
    "plt.plot(range(1, len(gb_rfecv.grid_scores_) + 1), gb_rfecv.grid_scores_)\n",
    "plt.show()"
   ]
  },
  {
   "cell_type": "code",
   "execution_count": 64,
   "metadata": {},
   "outputs": [
    {
     "name": "stdout",
     "output_type": "stream",
     "text": [
      "['h1n1_concern', 'h1n1_knowledge', 'behavioral_antiviral_meds', 'behavioral_wash_hands', 'behavioral_large_gatherings', 'behavioral_outside_home', 'doctor_recc_h1n1', 'chronic_med_condition', 'child_under_6_months', 'health_worker', 'opinion_h1n1_vacc_effective', 'opinion_h1n1_risk', 'opinion_h1n1_sick_from_vacc', 'household_children', 'age_group_18 - 34 Years', 'age_group_55 - 64 Years', 'age_group_65+ Years', 'education_< 12 Years', 'education_College Graduate', 'race_Black', 'race_White', 'sex_Male', 'income_poverty_> $75,000', 'marital_status_Not Married', 'rent_or_own_Rent', 'employment_status_Not in Labor Force']\n",
      "Initial accuracy : 0.8373461487748577 \n",
      "Accuracy after Feature Selection : 0.8379078413417925 \n"
     ]
    }
   ],
   "source": [
    "feature_importance = list(zip(features, gb_rfecv.support_))\n",
    "new_features = []\n",
    "for key,value in enumerate(feature_importance):\n",
    "    if(value[1]) == True:\n",
    "        new_features.append(value[0])\n",
    "        \n",
    "print(new_features)\n",
    "\n",
    "X_new_gb = dummies[new_features]\n",
    "initial_score = cross_val_score(gb_model, features, labels, cv= 5, scoring='accuracy').mean()\n",
    "print(\"Initial accuracy : {} \".format(initial_score))\n",
    "fe_score = cross_val_score(gb_model, X_new_gb, labels, cv= 5, scoring='accuracy').mean()\n",
    "print(\"Accuracy after Feature Selection : {} \".format(fe_score))"
   ]
  },
  {
   "cell_type": "markdown",
   "metadata": {},
   "source": [
    "Hyperparameter tuning for Logistic Regression"
   ]
  },
  {
   "cell_type": "code",
   "execution_count": 66,
   "metadata": {},
   "outputs": [
    {
     "name": "stdout",
     "output_type": "stream",
     "text": [
      "{'C': 1, 'multi_class': 'ovr', 'penalty': 'l2', 'solver': 'liblinear'}\n",
      "LogisticRegression(C=1, multi_class='ovr', solver='liblinear')\n"
     ]
    }
   ],
   "source": [
    "from sklearn.model_selection import GridSearchCV\n",
    "\n",
    "# Specify parameters\n",
    "c_values = list(np.arange(1, 10))\n",
    "param_grid = [\n",
    "    {'C': c_values, 'penalty': ['l1'], 'solver' : ['liblinear'], 'multi_class' : ['ovr']},\n",
    "    {'C': c_values, 'penalty': ['l2'], 'solver' : ['liblinear', 'newton-cg', 'lbfgs'], 'multi_class' : ['ovr']}\n",
    "]\n",
    "\n",
    "grid = GridSearchCV(LogisticRegression(), param_grid, cv= 5, scoring='accuracy')\n",
    "grid.fit(X_new, labels)\n",
    "\n",
    "print(grid.best_params_)\n",
    "print(grid.best_estimator_)"
   ]
  },
  {
   "cell_type": "code",
   "execution_count": 68,
   "metadata": {},
   "outputs": [
    {
     "name": "stdout",
     "output_type": "stream",
     "text": [
      "Final accuracy : 0.8352493244162564 \n"
     ]
    }
   ],
   "source": [
    "logreg_new = LogisticRegression(C=1, multi_class='ovr', penalty='l2', solver='liblinear')\n",
    "initial_score = cross_val_score(logreg_new, X_new, labels, cv= 5, scoring='accuracy').mean()\n",
    "print(\"Final accuracy : {} \".format(initial_score))"
   ]
  },
  {
   "cell_type": "markdown",
   "metadata": {},
   "source": [
    "Hyper Parameter Tuning for Gradient Boosting"
   ]
  },
  {
   "cell_type": "code",
   "execution_count": 73,
   "metadata": {},
   "outputs": [
    {
     "name": "stdout",
     "output_type": "stream",
     "text": [
      "{'learning_rate': 0.1, 'max_depth': 3, 'n_estimators': 500}\n",
      "GradientBoostingClassifier(n_estimators=500)\n"
     ]
    }
   ],
   "source": [
    "gbc = GradientBoostingClassifier()\n",
    "parameters = {\n",
    "    \"n_estimators\":[5,50,250,500],\n",
    "    \"max_depth\":[1,3,5,7,9],\n",
    "    \"learning_rate\":[0.01,0.1,1,10,100]\n",
    "}\n",
    "\n",
    "cv = GridSearchCV(gbc,parameters,cv=5, scoring='accuracy')\n",
    "cv.fit(X_new_gb,labels)\n",
    "\n",
    "print(cv.best_params_)\n",
    "print(cv.best_estimator_)"
   ]
  },
  {
   "cell_type": "code",
   "execution_count": 74,
   "metadata": {},
   "outputs": [
    {
     "name": "stdout",
     "output_type": "stream",
     "text": [
      "Final accuracy : 0.8382824432484071 \n"
     ]
    }
   ],
   "source": [
    "gb_new = GradientBoostingClassifier(n_estimators = 500, learning_rate= 0.1, max_depth= 3)\n",
    "initial_score_gb = cross_val_score(gb_new, X_new_gb, labels, cv= 5, scoring='accuracy').mean()\n",
    "print(\"Final accuracy : {} \".format(initial_score_gb))"
   ]
  }
 ],
 "metadata": {
  "kernelspec": {
   "display_name": "Python 3.8.10 64-bit",
   "language": "python",
   "name": "python3"
  },
  "language_info": {
   "codemirror_mode": {
    "name": "ipython",
    "version": 3
   },
   "file_extension": ".py",
   "mimetype": "text/x-python",
   "name": "python",
   "nbconvert_exporter": "python",
   "pygments_lexer": "ipython3",
   "version": "3.8.10"
  },
  "orig_nbformat": 4,
  "vscode": {
   "interpreter": {
    "hash": "916dbcbb3f70747c44a77c7bcd40155683ae19c65e1c03b4aa3499c5328201f1"
   }
  }
 },
 "nbformat": 4,
 "nbformat_minor": 2
}
